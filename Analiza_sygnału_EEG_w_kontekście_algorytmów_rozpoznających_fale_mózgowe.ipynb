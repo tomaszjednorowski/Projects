{
  "nbformat": 4,
  "nbformat_minor": 0,
  "metadata": {
    "colab": {
      "name": "Analiza sygnału EEG w kontekście algorytmów rozpoznających fale mózgowe",
      "provenance": [],
      "collapsed_sections": [],
      "include_colab_link": true
    },
    "kernelspec": {
      "name": "python3",
      "display_name": "Python 3"
    }
  },
  "cells": [
    {
      "cell_type": "markdown",
      "metadata": {
        "id": "view-in-github",
        "colab_type": "text"
      },
      "source": [
        "<a href=\"https://colab.research.google.com/github/tomaszjednorowski/Projects/blob/main/Analiza_sygna%C5%82u_EEG_w_kontek%C5%9Bcie_algorytm%C3%B3w_rozpoznaj%C4%85cych_fale_m%C3%B3zgowe.ipynb\" target=\"_parent\"><img src=\"https://colab.research.google.com/assets/colab-badge.svg\" alt=\"Open In Colab\"/></a>"
      ]
    },
    {
      "cell_type": "markdown",
      "metadata": {
        "id": "FP33m8KkM5N9"
      },
      "source": [
        "**Temat**: Analiza sygnału EEG w kontekście algorytmów rozpoznających fale mózgowe\n"
      ]
    },
    {
      "cell_type": "markdown",
      "metadata": {
        "id": "k_ub1O0CLTAE"
      },
      "source": [
        "Materiały źródłowe\n",
        "\n",
        "[Dokumentacja Bilioteki SciPy](https://docs.scipy.org/doc/scipy/reference/generated/scipy.signal.stft.html)\n",
        "\n",
        "[Fizjonet](https://physionet.org/content/capslpdb/1.0.0/)\n",
        "\n",
        "[Biblioteka Matplotlib](https://matplotlib.org/examples/pylab_examples/specgram_demo.html)\n",
        "\n",
        "[Pyedflib](https://pyedflib.readthedocs.io/en/latest/)\n",
        "\n",
        "[Github](https://github.com/mne-tools/mne-python)"
      ]
    },
    {
      "cell_type": "markdown",
      "metadata": {
        "id": "oFHO0UEfyomf"
      },
      "source": [
        "##Wstęp teoretyczny ze strony medycznej\n",
        "\n",
        "EEG - elektroencefalografia jest badaniem nieinwazyjnym, służącym do przechwywytwaniu impulsów elektrycznych bezpośrednio ze skóry głowy, co przy zastosowaniu odpowiedniej ilości elektrod i zachowaniu porządku ich rozmieszczenia daje obraz pracy mózgu. \n",
        "\n",
        "Robiąc elektroencefalografię stosuje się podkład w formie żelu, nakładany na skórę głowy, zwiększający konduktywność skóry.\n",
        "\n",
        "###Fale rozpoznawane w badaniu EEG\n",
        "\n",
        "Fale mózgowe rozpoznajemy jako cykle bioelektrycznej aktywności mózgu, które bezpośrednio obrazują stany świadommości badanego pacjenta.\n",
        "\n",
        "Jest ich 5 - nazywane od liter alfabetu greckiego - alfa, beta, gamma, delta, theta. Wszystkie są rozpięte na spektrum częstotliwości od 0,5 (fale delta) do 100 Hz (fale gamma).\n",
        "\n",
        "Fale Gamma - powyżej 30 Hz, do 80-100 Hz są powiązane z działaniem i funkcjom motorycznym, ale także z percepcją sensoryczną i pamięcią. Istnieje hipoteza, że te fale na częstotliwości ok. 40 Hz mają związek ze świadomością percepcyjną  - łączeniu wszystkich 5 rodzjaów bodźców płynących z jednego źródła - w jeden dany obiekt (np. śmierdzący, głośny kloszard jako spójna całość).\n",
        "\n",
        "Fale Alfa - pochodzą z płatów potylicznych, f $\\in <7,5 ; 13 > Hz$. Zauważa się je gdy mózg jest w stanie czuwania , u zrekalowanej osoby z zamkniętymi oczami. Pojawiają się na zapisach EEG dopiero po trzecim roku życia.\n",
        "\n",
        "Fale Beta - w okolicach czołowocentralnych, w odróżnieniu od czynności Alfa, któa dominuje w płatach potylicznych. Moze występować w sposón rozlany - nie tylko w okolicach czołowych, ale także potylicznych (tam gdzie powinien być rytm Alfa). \n",
        "\n",
        "Fale Delta - fale mózgowe mające wysoką amplitudę i częstotliwość 1-4 Hz lub 0,5 - 4 Hz, wiąże się je zsnem wolnofalowym. \n",
        "\n",
        "Fale Theta - to aktywnośc w paśmie od 3 do 7 Hz i rozpiętości w $ \\mu V$. Ten rodzaj fal jest rozdzielny pomiędzy wiele podrodzajów, m.in. powiązanych ze snem płytkim, medytacją, transem, hipnozą, intensywnym marzeniem lub intensywnymi emocjami. Można też kojarzyć fale theta z aktywnością poznawczą, kojarzeniem i procesami pamięciowymi. Obserwowane głównie w przyśrodkowej części przedniej mózgu.\n",
        "\n",
        "Przedstawione powyżej krótkie studium przypadku EEG pozwala jedynie przybliżyć zarys tego zagadnienia. Na interpretację fal składa się wiek pacjenta, przyjmowane leki, choroby i schorzenia, a także stan psychofizyczny podczas badania. \n",
        "\n",
        "\n",
        "Można jeszcze wyróżnic pomniejsze stadia podczas badania jak wrzeciona snu, kompleksy K i Fale piłokształtne, a także Iglic i wszechobecne, niezależnie od badania, artefakty. Te ostatnie mogą pochodzić jakoś ślady z wolnych ruchów gałek ocznych.\n",
        "\n"
      ]
    },
    {
      "cell_type": "markdown",
      "metadata": {
        "id": "HBXF07LZIcmJ"
      },
      "source": [
        "##Wstęp teoretyczny ze strony technicznej\n",
        "\n",
        "W ćwiczeniu wykorzystujemy krótkookresową transformatę Fouriera, która powszechnie jest znana pod STFT (short-time Fourier Transform). Należy zaznaczyć, że stosowana tu transformata jest typu czasu dyskretnego.\n",
        "\n",
        "Na ostatnią cechę wpływa tabelaryczny charakter danych pochodzący z pliku o rozszerzeniu EDF (estimator data file). To rozszerzenie jest powszechnie spotykane w plikach przechowujących dane o charakterze medycznym, ze względu na poziom bezpieczeństwa. Do otwarcia pliku o rozszerzeniu EDF używa się modułu pyedflib.\n",
        "\n",
        "W STFT czasu dyskretnego dane są dzielone na ramki, każda z nich jest transformowana za pomocą metody Foruriera. Następnie każdy z wyników składa się na macierz, której zadaniem jest rejestrowanie częstotliowści dla każdego punktu w tak powstałej przestrzeni. \n",
        "\n",
        "Funkcja STFT jest zaimplementowana w języku Python za pomocą biblioteki Scipy.signal.\n",
        "\n",
        "\n"
      ]
    },
    {
      "cell_type": "markdown",
      "metadata": {
        "id": "WqcAwKoTNTzj"
      },
      "source": [
        "Zostało zlecone studentowi opracowanie wyników EEG z plików o nomenklaturze n16. Dane są 3 pliki"
      ]
    },
    {
      "cell_type": "markdown",
      "metadata": {
        "id": "7uF7nsOwOs8B"
      },
      "source": [
        "Znajdź momenty danych fal EEG, zmierz długość, policz jak się to ma do wartości zmierzonych. "
      ]
    },
    {
      "cell_type": "markdown",
      "metadata": {
        "id": "Jc9HCSOK9kas"
      },
      "source": [
        "Okazana próba n16 jest niepatologiczna. Przedstawia EEG wykonane u osoby nie cierpiącej na zaburzenia fizjologiczne."
      ]
    },
    {
      "cell_type": "markdown",
      "metadata": {
        "id": "UCSr7Q48Ad6T"
      },
      "source": [
        "Korzystamy z biblioteki Scipy, dokładnie Scipy.signal - to podbiblioteka, gdzie znajdzie się funkcję wykorzystującą krótkookresową transformatę Fouriera.\n",
        "\n",
        "x - sygnał.\n",
        "\n",
        "fs - częstotliwość próbkowania/l. próbek w oknie (zwykle w potędze 2 by przyspieszyć obliczenie)\n",
        "\n",
        "Funkcja okna - przez nią mnoży sie składową harmoniczną by ograniczyć ją w czasie. Jest ich kilka.\n",
        "\n"
      ]
    },
    {
      "cell_type": "markdown",
      "metadata": {
        "id": "y1qEwoaWNkhf"
      },
      "source": [
        "##Listing"
      ]
    },
    {
      "cell_type": "code",
      "metadata": {
        "id": "z64K_Z7_cF8d",
        "colab": {
          "base_uri": "https://localhost:8080/",
          "height": 52
        },
        "outputId": "054f7c94-6874-443f-8b40-fc4895c47e16"
      },
      "source": [
        "!pip install  pyedflib\n",
        "import pyedflib\n",
        "file_name=\"n16.edf\"\n",
        "f = pyedflib.EdfReader(file_name)"
      ],
      "execution_count": null,
      "outputs": [
        {
          "output_type": "stream",
          "text": [
            "Requirement already satisfied: pyedflib in /usr/local/lib/python3.6/dist-packages (0.1.17)\n",
            "Requirement already satisfied: numpy>=1.9.1 in /usr/local/lib/python3.6/dist-packages (from pyedflib) (1.18.5)\n"
          ],
          "name": "stdout"
        }
      ]
    },
    {
      "cell_type": "code",
      "metadata": {
        "id": "84j-ov6NcKyd",
        "colab": {
          "base_uri": "https://localhost:8080/",
          "height": 235
        },
        "outputId": "b7e1e0a1-913f-4752-a179-6dc6057dea74"
      },
      "source": [
        "a = f.readSignal(0)\n",
        "b = f.readSignal(1)\n",
        "c = f.readSignal(2)\n",
        "d = f.readSignal(3)\n",
        "e = f.readSignal(4) "
      ],
      "execution_count": null,
      "outputs": [
        {
          "output_type": "error",
          "ename": "NameError",
          "evalue": "ignored",
          "traceback": [
            "\u001b[0;31m---------------------------------------------------------------------------\u001b[0m",
            "\u001b[0;31mNameError\u001b[0m                                 Traceback (most recent call last)",
            "\u001b[0;32m<ipython-input-1-8ba9514eb36e>\u001b[0m in \u001b[0;36m<module>\u001b[0;34m()\u001b[0m\n\u001b[0;32m----> 1\u001b[0;31m \u001b[0ma\u001b[0m \u001b[0;34m=\u001b[0m \u001b[0mf\u001b[0m\u001b[0;34m.\u001b[0m\u001b[0mreadSignal\u001b[0m\u001b[0;34m(\u001b[0m\u001b[0;36m0\u001b[0m\u001b[0;34m)\u001b[0m\u001b[0;34m\u001b[0m\u001b[0;34m\u001b[0m\u001b[0m\n\u001b[0m\u001b[1;32m      2\u001b[0m \u001b[0mb\u001b[0m \u001b[0;34m=\u001b[0m \u001b[0mf\u001b[0m\u001b[0;34m.\u001b[0m\u001b[0mreadSignal\u001b[0m\u001b[0;34m(\u001b[0m\u001b[0;36m1\u001b[0m\u001b[0;34m)\u001b[0m\u001b[0;34m\u001b[0m\u001b[0;34m\u001b[0m\u001b[0m\n\u001b[1;32m      3\u001b[0m \u001b[0mc\u001b[0m \u001b[0;34m=\u001b[0m \u001b[0mf\u001b[0m\u001b[0;34m.\u001b[0m\u001b[0mreadSignal\u001b[0m\u001b[0;34m(\u001b[0m\u001b[0;36m2\u001b[0m\u001b[0;34m)\u001b[0m\u001b[0;34m\u001b[0m\u001b[0;34m\u001b[0m\u001b[0m\n\u001b[1;32m      4\u001b[0m \u001b[0md\u001b[0m \u001b[0;34m=\u001b[0m \u001b[0mf\u001b[0m\u001b[0;34m.\u001b[0m\u001b[0mreadSignal\u001b[0m\u001b[0;34m(\u001b[0m\u001b[0;36m3\u001b[0m\u001b[0;34m)\u001b[0m\u001b[0;34m\u001b[0m\u001b[0;34m\u001b[0m\u001b[0m\n\u001b[1;32m      5\u001b[0m \u001b[0me\u001b[0m \u001b[0;34m=\u001b[0m \u001b[0mf\u001b[0m\u001b[0;34m.\u001b[0m\u001b[0mreadSignal\u001b[0m\u001b[0;34m(\u001b[0m\u001b[0;36m4\u001b[0m\u001b[0;34m)\u001b[0m\u001b[0;34m\u001b[0m\u001b[0;34m\u001b[0m\u001b[0m\n",
            "\u001b[0;31mNameError\u001b[0m: name 'f' is not defined"
          ]
        }
      ]
    },
    {
      "cell_type": "code",
      "metadata": {
        "id": "SmPi6LMad5QI"
      },
      "source": [
        "f.file_info_long()"
      ],
      "execution_count": null,
      "outputs": []
    },
    {
      "cell_type": "code",
      "metadata": {
        "id": "zq_jv-gYd882"
      },
      "source": [
        "fs = f.getSampleFrequency(0)\n",
        "fs"
      ],
      "execution_count": null,
      "outputs": []
    },
    {
      "cell_type": "code",
      "metadata": {
        "id": "qiezk44neCd9"
      },
      "source": [
        "import matplotlib.pyplot as plt\n",
        "E = e[:3000]\n",
        "plt.figure(figsize=(20,3))\n",
        "plt.title(\"EEG\")\n",
        "plt.plot(E)\n",
        "plt.xlabel(\"\")\n",
        "plt.ylabel(\"\")\n",
        "plt.show()"
      ],
      "execution_count": null,
      "outputs": []
    },
    {
      "cell_type": "code",
      "metadata": {
        "id": "2B8AwoNdeY9H"
      },
      "source": [
        "import scipy.signal as sig\n",
        "#fr - tablica częstotliwości próbek ,t - tablica czasów segmentu;Zxx -tablica czasów segmentu, \n",
        "fr, t, Zxx = sig.stft(e, fs)\n",
        "alfa=beta=gamma=delta=theta=0\n",
        "eeg_z = {'Alfa': (8, 13),\n",
        "        'Beta': (14, 30),\n",
        "        'Gamma': (30, 45),\n",
        "         'Delta': (3, 6),\n",
        "         'Theta': (4, 7)\n",
        "         }\n",
        "for freq in Zxx:\n",
        "  for i in freq:   \n",
        "    if i > eeg_z[\"Alfa\"][0] and i<eeg_z[\"Alfa\"][1]:\n",
        "     alfa+=1\n",
        "    elif i > eeg_z[\"Beta\"][0] and i<eeg_z[\"Beta\"][1]:\n",
        "     beta+=1\n",
        "    elif i > eeg_z[\"Gamma\"][0] and i<eeg_z[\"Gamma\"][1]:\n",
        "        gamma+=1\n",
        "    elif i > eeg_z[\"Delta\"][0] and i<eeg_z[\"Delta\"][1]:\n",
        "      delta+=1\n",
        "    elif i > eeg_z[\"Theta\"][0] and i<eeg_z[\"Theta\"][1]:\n",
        "       theta+=1\n",
        "    s= alfa+beta+gamma+delta+theta\n",
        "alfa_p = round(alfa*100/s,2)\n",
        "beta_p = round(beta*100/s,2)\n",
        "gamma_p = round(gamma*100/s,2)\n",
        "delta_p = round(delta*100/s,2)\n",
        "theta_p= round(theta*100/s,2)"
      ],
      "execution_count": null,
      "outputs": []
    },
    {
      "cell_type": "code",
      "metadata": {
        "id": "HIp0WSFRefyK"
      },
      "source": [
        "import pandas as pd\n",
        "df = pd.DataFrame()\n",
        "df['fala'] = eeg_z.keys()\n",
        "df['%'] = [alfa_p, beta_p, gamma_p, delta_p, theta_p]\n",
        "df"
      ],
      "execution_count": null,
      "outputs": []
    },
    {
      "cell_type": "code",
      "metadata": {
        "id": "wXU6UmTJfaMF"
      },
      "source": [
        "ax = df.plot.bar(x='fala', y='%', legend=False)\n",
        "ax.set_xlabel(\"fala\")\n",
        "ax.set_ylabel(\"%\")"
      ],
      "execution_count": null,
      "outputs": []
    },
    {
      "cell_type": "markdown",
      "metadata": {
        "id": "kuxB_UD4umPy"
      },
      "source": [
        "##Wnioski:\n",
        "\n",
        "W programie zastosowano Krótkookresową Transformatę Fouriera. Jej wyniki przedstawiono na wykresie słupkowym.\n",
        "\n",
        "U pacjenta stwierdza się przewagę fal Delta (ponad 80%). Można przypuszczać, że badanie EEG wykonano w czasie snu. Jednocześnie pełna interpretacja wyników EEG jest uzależniona od wieku, płci i stanu Pacjenta. Dlatego po tym spostrzeżeniu autor sprawozdania zaprzestaje dalszej analizy medycznej obserwowanego zjawiska, pozostawiając ją specjalistom."
      ]
    },
    {
      "cell_type": "markdown",
      "metadata": {
        "id": "2I_u7bL9ycoe"
      },
      "source": [
        "Stosunek długości wystąpienia fali Delta do długości badania bardzo wyraaziście pokazuje, że Pacjent podczas badania był skupiony na jednej czynności. To pokazuje, że niezależnie od diagnozy medycznej postawionej po głębszej analizie tego zapisu EEG okiem specjalisty taka metoda konsolidacji wyników góruje nad tradycyjną analizą wzrokową."
      ]
    },
    {
      "cell_type": "code",
      "metadata": {
        "id": "jy8jLcXoD2PW"
      },
      "source": [
        ""
      ],
      "execution_count": null,
      "outputs": []
    }
  ]
}