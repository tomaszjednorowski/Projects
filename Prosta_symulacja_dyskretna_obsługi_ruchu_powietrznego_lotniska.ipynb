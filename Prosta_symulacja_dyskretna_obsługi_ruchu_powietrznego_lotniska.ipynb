{
  "nbformat": 4,
  "nbformat_minor": 0,
  "metadata": {
    "colab": {
      "name": "Prosta symulacja dyskretna obsługi ruchu powietrznego lotniska",
      "provenance": [],
      "collapsed_sections": [],
      "authorship_tag": "ABX9TyNLyl42kulBveyRSvkWJheW",
      "include_colab_link": true
    },
    "kernelspec": {
      "name": "python3",
      "display_name": "Python 3"
    }
  },
  "cells": [
    {
      "cell_type": "markdown",
      "metadata": {
        "id": "view-in-github",
        "colab_type": "text"
      },
      "source": [
        "<a href=\"https://colab.research.google.com/github/tomaszjednorowski/Projects/blob/main/Prosta_symulacja_dyskretna_obs%C5%82ugi_ruchu_powietrznego_lotniska.ipynb\" target=\"_parent\"><img src=\"https://colab.research.google.com/assets/colab-badge.svg\" alt=\"Open In Colab\"/></a>"
      ]
    },
    {
      "cell_type": "markdown",
      "metadata": {
        "id": "y0HXdpqXv32o"
      },
      "source": [
        "#Temat: Prosta symulacja dyskretna obsługi ruchu powietrznego lotniska\n",
        "\n",
        "\n",
        "---\n"
      ]
    },
    {
      "cell_type": "markdown",
      "metadata": {
        "id": "LtqT4r5tKLDi"
      },
      "source": [
        "##Wczytanie potrzebnych  modułów"
      ]
    },
    {
      "cell_type": "code",
      "metadata": {
        "colab": {
          "base_uri": "https://localhost:8080/"
        },
        "id": "oamZt5KsiINS",
        "outputId": "83a95a76-2a3a-4aef-d51b-ef4de7fa76ae"
      },
      "source": [
        "!pip install simpy\n",
        "import simpy\n",
        "import random\n",
        "import matplotlib.pyplot as pyplot"
      ],
      "execution_count": 1,
      "outputs": [
        {
          "output_type": "stream",
          "text": [
            "Collecting simpy\n",
            "  Downloading https://files.pythonhosted.org/packages/20/f9/874b0bab83406827db93292a5bbe5acb5c18e3cea665b2f6e053292cb687/simpy-4.0.1-py2.py3-none-any.whl\n",
            "Installing collected packages: simpy\n",
            "Successfully installed simpy-4.0.1\n"
          ],
          "name": "stdout"
        }
      ]
    },
    {
      "cell_type": "markdown",
      "metadata": {
        "id": "iZYoABc7KLuh"
      },
      "source": [
        "##Przygotowanie wstępnych rozkładów losowych"
      ]
    },
    {
      "cell_type": "code",
      "metadata": {
        "id": "0a8klwiAJgxp"
      },
      "source": [
        "SIM_TIME = 100\n",
        "\n",
        "ARRIVAL_INTERVAL = round(random.normalvariate(8,2))  \n",
        "LANDING_DURATION = round(random.expovariate(1/2))\n",
        "DEPARTURE_INTERVAL = round(random.vonmisesvariate(3.14*0.3,0))\n",
        "planes = []\n",
        "time = []\n",
        "ineTheAirPlot = []\n",
        "onTheGroundPlot = []\n"
      ],
      "execution_count": 2,
      "outputs": []
    },
    {
      "cell_type": "markdown",
      "metadata": {
        "id": "LiBppt_SKMUR"
      },
      "source": [
        "Zdefiniowanie funkcji zwracającej indeks ostatniego samolotu o danym statusie."
      ]
    },
    {
      "cell_type": "code",
      "metadata": {
        "id": "QqauQlGuJw1U"
      },
      "source": [
        "def find_index(obj, val):\n",
        "  for i in range(len(obj)):\n",
        "    if obj[i].status == val:\n",
        "      return i"
      ],
      "execution_count": 3,
      "outputs": []
    },
    {
      "cell_type": "markdown",
      "metadata": {
        "id": "tLmop98uKMzV"
      },
      "source": [
        "##Zdefiniowane klasy Plane"
      ]
    },
    {
      "cell_type": "code",
      "metadata": {
        "id": "190CWiz1Jx6l"
      },
      "source": [
        "class Plane(): \n",
        "  def __init__(self, id, status):\n",
        "    self.id = id  \n",
        "    self.status = status"
      ],
      "execution_count": 4,
      "outputs": []
    },
    {
      "cell_type": "markdown",
      "metadata": {
        "id": "3-ZU3OumKNag"
      },
      "source": [
        "##Zdefiniowanie klasy Airport"
      ]
    },
    {
      "cell_type": "code",
      "metadata": {
        "id": "VRAjkoQMJ54v"
      },
      "source": [
        "class Airport(object):\n",
        "    inTheAir = 0\n",
        "    onTheGround = 0\n",
        "    runwayFree = True\n",
        "    arrivalTime = 1\n",
        "    landingTime = 0\n",
        "    departureTime = 0\n",
        "    arrivalInterval = 0\n",
        "    landingDuration = 0\n",
        "    departureInterval = 0\n",
        "\n",
        "    def __init__(self, env, arrivalInterval, landingDuration, departureInterval):\n",
        "        self.env = env\n",
        "        self.arrivalInterval = arrivalInterval\n",
        "        self.landingDuration = landingDuration\n",
        "        self.departureInterval = departureInterval\n",
        "        self.action = env.process(self.run())\n",
        "        self.planes = [] \n",
        "    def arrival(self):\n",
        "        if(self.env.now == self.arrivalTime):\n",
        "            self.arrivalTime += round(random.expovariate(1/2))\n",
        "            self.inTheAir += 1\n",
        "            self.planes.append(Plane(len(self.planes)+1, \"air\"))\n",
        "            print(self.env.now, \":  Plane\", self.planes[len(self.planes)-1].id, \" has arrive. Airplanes in the air: \", self.inTheAir)\n",
        "           \n",
        "            if( self.runwayFree ):\n",
        "                self.runwayFree = False\n",
        "                self.landingTime = self.env.now + round(random.normalvariate(6,2))\n",
        "                print(self.env.now, \":  Plane\", self.planes[len(self.planes)-1].id, \" landing has been planned at \", self.landingTime)\n",
        "\n",
        "    def landing(self):\n",
        "        if(self.env.now == self.landingTime):\n",
        "            if( self.inTheAir > 0):\n",
        "                self.inTheAir -= 1\n",
        "                self.onTheGround += 1\n",
        "                print(self.env.now, \":  Plane\", self.planes[find_index(self.planes, \"air\")].id, \" has landed. Airplanes on the ground: \", self.onTheGround, \". Airplanes in the air \", self.inTheAir)\n",
        "                self.planes[find_index(self.planes, \"air\")].status = \"ground\"\n",
        "                if (self.onTheGround==1):\n",
        "                    self.departureTime = self.env.now + round(random.vonmisesvariate(3.14*0.4,0))\n",
        "                    print(self.env.now,  \":  Plane\", self.planes[find_index(self.planes, \"ground\")].id,\" departure has been planned at \", self.departureTime)\n",
        "                if ( self.inTheAir > 0):\n",
        "                    self.landingTime = self.env.now + round(random.normalvariate(6,2))\n",
        "                    print(self.env.now,  \":  Plane\", self.planes[find_index(self.planes, \"air\")].id, \" landing has been planned at \", self.landingTime)\n",
        "                else:\n",
        "                    self.runwayFree = True\n",
        "                    print(self.env.now, \": Runway is free.\")\n",
        "\n",
        "    def departure(self):\n",
        "        if(self.env.now == self.departureTime):\n",
        "            if( self.onTheGround > 0):\n",
        "                self.onTheGround -= 1\n",
        "                print(self.env.now, \":  Plane\", self.planes[find_index(self.planes, \"ground\")].id, \"  has departured. Airplanes on the ground: \", self.onTheGround, \". Airplanes in the air \", self.inTheAir)\n",
        "                self.planes[find_index(self.planes, \"ground\")].status = \"off\"\n",
        "                if (self.onTheGround>0):\n",
        "                    self.departureTime = self.env.now + round(random.vonmisesvariate(3.14*0.4,0))\n",
        "                    print(self.env.now, \":  Plane\", self.planes[find_index(self.planes, \"ground\")].id, \"  departure has been planned at \", self.departureTime)\n",
        "    def run(self):\n",
        "        while True:  \n",
        "            time.append(self.env.now)\n",
        "            planes.append(len(self.planes)) \n",
        "            ineTheAirPlot.append(self.inTheAir)\n",
        "            onTheGroundPlot.append(self.onTheGround)\n",
        "            self.arrival()\n",
        "            self.landing()\n",
        "            self.departure()\n",
        "            yield env.timeout(1)"
      ],
      "execution_count": 5,
      "outputs": []
    },
    {
      "cell_type": "code",
      "metadata": {
        "colab": {
          "base_uri": "https://localhost:8080/",
          "height": 35
        },
        "id": "q-Qs_PimLwDz",
        "outputId": "73994965-7ce9-4226-f1bb-1ceed1270fde"
      },
      "source": [
        "name = \"Eric\"\n",
        ">>> profession = \"comedian\"\n",
        ">>> affiliation = \"Monty Python\"\n",
        ">>> message = (\n",
        "...     f\"Hi {name}. \"\n",
        "...     f\"You are a {profession}. \"\n",
        "...     f\"You were in {affiliation}.\"\n",
        "... )\n",
        ">>> message\n",
        "'Hi Eric. You are a comedian. You were in Monty Python.'"
      ],
      "execution_count": 6,
      "outputs": [
        {
          "output_type": "execute_result",
          "data": {
            "application/vnd.google.colaboratory.intrinsic+json": {
              "type": "string"
            },
            "text/plain": [
              "'Hi Eric. You are a comedian. You were in Monty Python.'"
            ]
          },
          "metadata": {
            "tags": []
          },
          "execution_count": 6
        }
      ]
    },
    {
      "cell_type": "markdown",
      "metadata": {
        "id": "zJyVunU3KOIk"
      },
      "source": [
        "##Wczytanie właściwej symulacji i wydruk wyników"
      ]
    },
    {
      "cell_type": "code",
      "metadata": {
        "colab": {
          "base_uri": "https://localhost:8080/",
          "height": 417
        },
        "id": "yN07YpRzmQbj",
        "outputId": "94fd5ffd-9ac8-4908-f5ff-61d3ba6d773e"
      },
      "source": [
        "print(\"Rozpocznij prostą symulację ruchu lotniska \"\n",
        "      \"ARRIVAL_INTERVAL={}, \"\n",
        "      \"LANDING_DURATION={}, \"\n",
        "      \"DEPARTURE_INTERVAL={}\".format(ARRIVAL_INTERVAL,LANDING_DURATION,DEPARTURE_INTERVAL))\n",
        "env = simpy.Environment()\n",
        "airport = Airport(env,ARRIVAL_INTERVAL,LANDING_DURATION,DEPARTURE_INTERVAL)\n",
        "env.run(until=SIM_TIME)\n",
        "\n",
        "\n",
        "\n",
        "line = pyplot.plot(time, ineTheAirPlot, label='w powietrzu')\n",
        "line2 = pyplot.plot(time, onTheGroundPlot, label='na ziemii')\n",
        "pyplot.setp(line, color='r')\n",
        "pyplot.setp(line2, color='b')\n",
        "pyplot.xlabel(\"Czas\")\n",
        "pyplot.ylabel(\"Liczba samolotów\")\n",
        "pyplot.title(\"Obciążenie lotniska\")\n",
        "pyplot.legend()\n",
        "pyplot.show()\n",
        "\n",
        "A=[i for i in ineTheAirPlot if i!=0]\n",
        "B=[i for i in onTheGroundPlot if i!=0]\n",
        "\n",
        "\n",
        "\n"
      ],
      "execution_count": 7,
      "outputs": [
        {
          "output_type": "stream",
          "text": [
            "Rozpocznij prostą symulację ruchu lotniska ARRIVAL_INTERVAL=6, LANDING_DURATION=3, DEPARTURE_INTERVAL=5\n",
            "1 :  Plane 1  has arrive. Airplanes in the air:  1\n",
            "1 :  Plane 1  landing has been planned at  8\n",
            "8 :  Plane 1  has landed. Airplanes on the ground:  1 . Airplanes in the air  0\n",
            "8 :  Plane 1  departure has been planned at  11\n",
            "8 : Runway is free.\n",
            "11 :  Plane 1   has departured. Airplanes on the ground:  0 . Airplanes in the air  0\n"
          ],
          "name": "stdout"
        },
        {
          "output_type": "display_data",
          "data": {
            "image/png": "[encoded data removed]",
            "text/plain": [
              "<Figure size 432x288 with 1 Axes>"
            ]
          },
          "metadata": {
            "tags": [],
            "needs_background": "light"
          }
        }
      ]
    },
    {
      "cell_type": "markdown",
      "metadata": {
        "id": "bvsurnkmPL91"
      },
      "source": [
        "### Wydruk listka raportu z symulacji."
      ]
    },
    {
      "cell_type": "code",
      "metadata": {
        "colab": {
          "base_uri": "https://localhost:8080/",
          "height": 70
        },
        "id": "NewLZuqeMvEf",
        "outputId": "04d2ac85-556c-4501-bfa7-43cef0b1067e"
      },
      "source": [
        "Raport = (\n",
        "        f\"Podsumowując:\"\n",
        "        f\"Łączna liczba samolotów jakie wzięły udział w symulacji to {max(planes)}.\"\n",
        "        f\"Liczba samolotów jakie w jednej chwili unosiły się w powietrzu oscyluje wokół {round(sum(ineTheAirPlot)/len(A))}, jest to wartość średnia.\"\n",
        "        f\"Maksymalnie {max(onTheGroundPlot)} maszyn stanowiło obciążenie płyty lotniska w danej chwili.\"\n",
        "        f\"Na ziemii w jednym momencie było średnio {round(sum(onTheGroundPlot)/len(B))} samolotów\"\n",
        ")\n",
        "Raport"
      ],
      "execution_count": 8,
      "outputs": [
        {
          "output_type": "execute_result",
          "data": {
            "application/vnd.google.colaboratory.intrinsic+json": {
              "type": "string"
            },
            "text/plain": [
              "'Podsumowując:Łączna liczba samolotów jakie wzięły udział w symulacji to 1.Liczba samolotów jakie w jednej chwili unosiły się w powietrzu oscyluje wokół 1, jest to wartość średnia.Maksymalnie 1 maszyn stanowiło obciążenie płyty lotniska w danej chwili.Na ziemii w jednym momencie było średnio 1 samolotów'"
            ]
          },
          "metadata": {
            "tags": []
          },
          "execution_count": 8
        }
      ]
    },
    {
      "cell_type": "code",
      "metadata": {
        "id": "FLQf0KQ5dimi"
      },
      "source": [
        ""
      ],
      "execution_count": 8,
      "outputs": []
    }
  ]
}