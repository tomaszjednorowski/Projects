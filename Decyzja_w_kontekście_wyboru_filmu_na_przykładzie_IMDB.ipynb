{
  "nbformat": 4,
  "nbformat_minor": 0,
  "metadata": {
    "colab": {
      "name": "Decyzja w kontekście wyboru filmu na przykładzie IMDB",
      "provenance": [],
      "collapsed_sections": [],
      "toc_visible": true,
      "mount_file_id": "1cUoX24dt0ftpBehXGNa5U8wsI_DAubdM",
      "authorship_tag": "ABX9TyMX9fOwwVdQ735zV5BuGo5U",
      "include_colab_link": true
    },
    "kernelspec": {
      "name": "python3",
      "display_name": "Python 3"
    }
  },
  "cells": [
    {
      "cell_type": "markdown",
      "metadata": {
        "id": "view-in-github",
        "colab_type": "text"
      },
      "source": [
        "<a href=\"https://colab.research.google.com/github/tomaszjednorowski/Projects/blob/main/Decyzja_w_kontek%C5%9Bcie_wyboru_filmu_na_przyk%C5%82adzie_IMDB.ipynb\" target=\"_parent\"><img src=\"https://colab.research.google.com/assets/colab-badge.svg\" alt=\"Open In Colab\"/></a>"
      ]
    },
    {
      "cell_type": "markdown",
      "metadata": {
        "id": "I2YY8G7dg5qm"
      },
      "source": [
        "#Proces decyzyjny w kontekście wyboru filmu na spotkanie damsko męskie"
      ]
    },
    {
      "cell_type": "markdown",
      "metadata": {
        "id": "VTVjQp81_MhX"
      },
      "source": [
        "## Wstęp Teoretyczny\n",
        "\n"
      ]
    },
    {
      "cell_type": "markdown",
      "metadata": {
        "id": "T7kZwVGY_Kc8"
      },
      "source": [
        "### Rozpatrzenie zagadnienia ze strony medycznej\n",
        "\n",
        "Idąc za faktami historycznymi należy zauważyć, że po  każdej z pandemii populacja ludzka była zmniejszona o wiele istnień ludzkich.\n",
        "Przytaczając za [wikipedią](https://pl.wikipedia.org/wiki/Pandemia) wyłącznie wybrane, skrótowe liczby pokazujące rozmiar nagłego kurczenia się populacji pod względem liczebności: \n",
        "\n",
        "\n",
        "1.   grypa hiszpanka (1918-1919) - ponad 50 mln zgonów na całym świecie\n",
        "2.   grypa azjatycka (1957) - ok. 1 mln zgonów na całym świecie\n",
        "3.   grypa Hong-Kong (1968) - ok. 1 mln zgonów na całym świecie\n",
        "4.   pandemia grypy A/H1N1 (2009-2010) - 150 - 580 tys. zgonów.\n",
        "\n",
        "Wnioskując, że za każdym razem populacja ludzka musiała w jakimkolwiek stopniu podlegać odbudowie możemy wesprzeć ten proces patrząc z kontekstu pojedynczej jednostki rodzaju męskiego. \n"
      ]
    },
    {
      "cell_type": "markdown",
      "metadata": {
        "id": "g9tl-tQ-_6fh"
      },
      "source": [
        "### Podejście do zagadnienia ze strony technicznej"
      ]
    },
    {
      "cell_type": "markdown",
      "metadata": {
        "id": "PEpj6_qXWRP0"
      },
      "source": [
        "#### Rozwiązanie systemowe\n",
        "\n",
        "W dobie zamkniętych kin i teatrów, a także nadchodzącego kryzysu ekonomicznego zmuszeni jesteśmy na organizację zgromadzenia dwuosobowego damsko - męskiego w jak najbardziej optymalny i ekonomiczny sposób. W tym celu posłużymy się wyborem tematyki spotkania za pomocą odpowiedniego wyselekcjonowania filmów posługując się rankingiem IMDB. Ufając temu rankingowi możemy liczyć, że wcześniej wspomniane zgromadzenie odbęcie się z dobrym odbiorem danego osobnika przez przedstawicielkę płci przeciwnej.\n",
        "\n",
        "#### Funkcje wykorzystane w programie\n",
        "\n",
        "Ranking IMDB podany jest w formie tablerycznej. Używamy do tego dedykowanej biblioteki Pandas, a dokładnie funkcji pandas.read_csv(\"foofoo.csv\").\n",
        "\n",
        "W kolejnych etapach dokonujemy filtracji danych, sortowania wg. wybranego przez nas wzorca, oraz wyliczenia reprezentatywnych konkretnych liczb dla całego zbioru danych: mediany liczby oddanych głosów (por. niżej), oraz średniej wartości oceny filmu."
      ]
    },
    {
      "cell_type": "markdown",
      "metadata": {
        "id": "HeEe5aaDgN_s"
      },
      "source": [
        "## Proces decyzyjny i realizacja kodu programu\n",
        "\n",
        "\n",
        "\n",
        "\n",
        "W procesie decyzyjnym bardzo ważnym kryterium jest ocena. Każdy film ma swoją średnią ocenę uzyskaną od widzów. Interesuje nas więc np. w którym kwartylu znajduje się jego ocena, jaka ocena jest najbardziej popularna, jaka jest średnia naszych ocen.\n",
        "\n",
        "Bardzo ważne jest jednak kryterium liczby oddanych głosów. Należy przypomnieć, że my szukamy filmu, który da największe statystycznie szanse na udany wieczór, więc im większa jest liczba głosów - tym lepiej. Poznajmy medianę liczby oddanych głosów."
      ]
    },
    {
      "cell_type": "code",
      "metadata": {
        "id": "fWFXJq1e2SOu"
      },
      "source": [
        "#loaded library, which we need to solve problem with tabular data from CSV\n",
        "import pandas as pd\n",
        "\n",
        "import matplotlib.pyplot as plt"
      ],
      "execution_count": null,
      "outputs": []
    },
    {
      "cell_type": "code",
      "metadata": {
        "id": "J7yZ2cgomJMu"
      },
      "source": [
        "movies = pd.read_csv('RankingIMDB.csv')"
      ],
      "execution_count": null,
      "outputs": []
    },
    {
      "cell_type": "code",
      "metadata": {
        "id": "CTOTvfbRmtWV",
        "colab": {
          "base_uri": "https://localhost:8080/",
          "height": 84
        },
        "outputId": "576bfeb9-cf6f-4aaa-d9c1-47907a2922e0"
      },
      "source": [
        "movies.columns"
      ],
      "execution_count": null,
      "outputs": [
        {
          "output_type": "execute_result",
          "data": {
            "text/plain": [
              "Index(['Rank', 'Title', 'Genre', 'Description', 'Director', 'Actors', 'Year',\n",
              "       'Runtime (Minutes)', 'Rating', 'Votes', 'Revenue (Millions)',\n",
              "       'Metascore'],\n",
              "      dtype='object')"
            ]
          },
          "metadata": {
            "tags": []
          },
          "execution_count": 121
        }
      ]
    },
    {
      "cell_type": "code",
      "metadata": {
        "id": "cn4HuDtFpyqM",
        "colab": {
          "base_uri": "https://localhost:8080/",
          "height": 34
        },
        "outputId": "8c0d0c92-6f9a-43f5-bbdc-525cb660d00b"
      },
      "source": [
        "movies.Votes.median()"
      ],
      "execution_count": null,
      "outputs": [
        {
          "output_type": "execute_result",
          "data": {
            "text/plain": [
              "110799.0"
            ]
          },
          "metadata": {
            "tags": []
          },
          "execution_count": 123
        }
      ]
    },
    {
      "cell_type": "code",
      "metadata": {
        "id": "CIQC-KfSp-7-",
        "colab": {
          "base_uri": "https://localhost:8080/",
          "height": 168
        },
        "outputId": "6b6d11cd-adc4-4b0e-f469-23d72bf57d3e"
      },
      "source": [
        "movies.Rating.describe(include=['object'])"
      ],
      "execution_count": null,
      "outputs": [
        {
          "output_type": "execute_result",
          "data": {
            "text/plain": [
              "count    1000.000000\n",
              "mean        6.723200\n",
              "std         0.945429\n",
              "min         1.900000\n",
              "25%         6.200000\n",
              "50%         6.800000\n",
              "75%         7.400000\n",
              "max         9.000000\n",
              "Name: Rating, dtype: float64"
            ]
          },
          "metadata": {
            "tags": []
          },
          "execution_count": 124
        }
      ]
    },
    {
      "cell_type": "markdown",
      "metadata": {
        "id": "84JQX1ZyZNXf"
      },
      "source": [
        "Niezależna eskpertka mieszkająca z autorem niniejszego sprawozdania wydała następującą ekspertyzę:\n",
        "1.   Warto obejrzeć nowy film. Nowe filmy to te wyprodukowane po 2012 roku.\n",
        "2.   Kobiety najbardziej lubią komedię romantyczną.\n",
        "\n",
        "Dodatkowo decydujemy się rozpatrywać tylko te rekordy z filmami, które zebrały ocenę wyższą od średniej ocen, a głosów oddano więcej niż wynosi mediana. Budżet filmowy zostawiamy, ale celem walki z powszechnym materializem nie będziemy dokonywali filtracji i pod tym względem. Warto jednak zobaczyć różnice.\n",
        "\n"
      ]
    },
    {
      "cell_type": "code",
      "metadata": {
        "id": "WwMjMBqboCuL",
        "colab": {
          "base_uri": "https://localhost:8080/",
          "height": 406
        },
        "outputId": "d937410e-7814-4f6c-935a-44551a59aa4c"
      },
      "source": [
        "#movies.loc - filtres columns\n",
        "#Rating >6.7 AND movies don't olders, votes more of medians,\n",
        "our_movies = movies.loc[:,['Title', 'Director', 'Year',\n",
        "       'Runtime (Minutes)', 'Rating', 'Votes', 'Revenue (Millions)']][movies.Rating>6.7][movies.Year>2012][movies.Votes>110799][movies.Genre.str.contains(\"Romance\")]\n",
        "our_movies.sort_values('Rating')"
      ],
      "execution_count": null,
      "outputs": [
        {
          "output_type": "stream",
          "text": [
            "/usr/local/lib/python3.6/dist-packages/ipykernel_launcher.py:2: UserWarning: Boolean Series key will be reindexed to match DataFrame index.\n",
            "  \n"
          ],
          "name": "stderr"
        },
        {
          "output_type": "execute_result",
          "data": {
            "text/html": [
              "<div>\n",
              "<style scoped>\n",
              "    .dataframe tbody tr th:only-of-type {\n",
              "        vertical-align: middle;\n",
              "    }\n",
              "\n",
              "    .dataframe tbody tr th {\n",
              "        vertical-align: top;\n",
              "    }\n",
              "\n",
              "    .dataframe thead th {\n",
              "        text-align: right;\n",
              "    }\n",
              "</style>\n",
              "<table border=\"1\" class=\"dataframe\">\n",
              "  <thead>\n",
              "    <tr style=\"text-align: right;\">\n",
              "      <th></th>\n",
              "      <th>Title</th>\n",
              "      <th>Director</th>\n",
              "      <th>Year</th>\n",
              "      <th>Runtime (Minutes)</th>\n",
              "      <th>Rating</th>\n",
              "      <th>Votes</th>\n",
              "      <th>Revenue (Millions)</th>\n",
              "    </tr>\n",
              "  </thead>\n",
              "  <tbody>\n",
              "    <tr>\n",
              "      <th>876</th>\n",
              "      <td>Warm Bodies</td>\n",
              "      <td>Jonathan Levine</td>\n",
              "      <td>2013</td>\n",
              "      <td>98</td>\n",
              "      <td>6.9</td>\n",
              "      <td>193579</td>\n",
              "      <td>66.36</td>\n",
              "    </tr>\n",
              "    <tr>\n",
              "      <th>9</th>\n",
              "      <td>Passengers</td>\n",
              "      <td>Morten Tyldum</td>\n",
              "      <td>2016</td>\n",
              "      <td>116</td>\n",
              "      <td>7.0</td>\n",
              "      <td>192177</td>\n",
              "      <td>100.01</td>\n",
              "    </tr>\n",
              "    <tr>\n",
              "      <th>226</th>\n",
              "      <td>The Lobster</td>\n",
              "      <td>Yorgos Lanthimos</td>\n",
              "      <td>2015</td>\n",
              "      <td>119</td>\n",
              "      <td>7.1</td>\n",
              "      <td>121313</td>\n",
              "      <td>8.70</td>\n",
              "    </tr>\n",
              "    <tr>\n",
              "      <th>807</th>\n",
              "      <td>The Spectacular Now</td>\n",
              "      <td>James Ponsoldt</td>\n",
              "      <td>2013</td>\n",
              "      <td>95</td>\n",
              "      <td>7.1</td>\n",
              "      <td>115751</td>\n",
              "      <td>6.85</td>\n",
              "    </tr>\n",
              "    <tr>\n",
              "      <th>395</th>\n",
              "      <td>The Age of Adaline</td>\n",
              "      <td>Lee Toland Krieger</td>\n",
              "      <td>2015</td>\n",
              "      <td>112</td>\n",
              "      <td>7.2</td>\n",
              "      <td>112288</td>\n",
              "      <td>42.48</td>\n",
              "    </tr>\n",
              "    <tr>\n",
              "      <th>137</th>\n",
              "      <td>The Great Gatsby</td>\n",
              "      <td>Baz Luhrmann</td>\n",
              "      <td>2013</td>\n",
              "      <td>143</td>\n",
              "      <td>7.3</td>\n",
              "      <td>386102</td>\n",
              "      <td>144.81</td>\n",
              "    </tr>\n",
              "    <tr>\n",
              "      <th>57</th>\n",
              "      <td>Me Before You</td>\n",
              "      <td>Thea Sharrock</td>\n",
              "      <td>2016</td>\n",
              "      <td>106</td>\n",
              "      <td>7.4</td>\n",
              "      <td>113322</td>\n",
              "      <td>56.23</td>\n",
              "    </tr>\n",
              "    <tr>\n",
              "      <th>357</th>\n",
              "      <td>The Theory of Everything</td>\n",
              "      <td>James Marsh</td>\n",
              "      <td>2014</td>\n",
              "      <td>123</td>\n",
              "      <td>7.7</td>\n",
              "      <td>299718</td>\n",
              "      <td>35.89</td>\n",
              "    </tr>\n",
              "    <tr>\n",
              "      <th>260</th>\n",
              "      <td>Birdman or (The Unexpected Virtue of Ignorance)</td>\n",
              "      <td>Alejandro González Iñárritu</td>\n",
              "      <td>2014</td>\n",
              "      <td>119</td>\n",
              "      <td>7.8</td>\n",
              "      <td>440299</td>\n",
              "      <td>42.34</td>\n",
              "    </tr>\n",
              "    <tr>\n",
              "      <th>338</th>\n",
              "      <td>The Fault in Our Stars</td>\n",
              "      <td>Josh Boone</td>\n",
              "      <td>2014</td>\n",
              "      <td>126</td>\n",
              "      <td>7.8</td>\n",
              "      <td>271301</td>\n",
              "      <td>124.87</td>\n",
              "    </tr>\n",
              "    <tr>\n",
              "      <th>173</th>\n",
              "      <td>Her</td>\n",
              "      <td>Spike Jonze</td>\n",
              "      <td>2013</td>\n",
              "      <td>126</td>\n",
              "      <td>8.0</td>\n",
              "      <td>390531</td>\n",
              "      <td>25.56</td>\n",
              "    </tr>\n",
              "  </tbody>\n",
              "</table>\n",
              "</div>"
            ],
            "text/plain": [
              "                                               Title  ... Revenue (Millions)\n",
              "876                                      Warm Bodies  ...              66.36\n",
              "9                                         Passengers  ...             100.01\n",
              "226                                      The Lobster  ...               8.70\n",
              "807                              The Spectacular Now  ...               6.85\n",
              "395                               The Age of Adaline  ...              42.48\n",
              "137                                 The Great Gatsby  ...             144.81\n",
              "57                                     Me Before You  ...              56.23\n",
              "357                         The Theory of Everything  ...              35.89\n",
              "260  Birdman or (The Unexpected Virtue of Ignorance)  ...              42.34\n",
              "338                           The Fault in Our Stars  ...             124.87\n",
              "173                                              Her  ...              25.56\n",
              "\n",
              "[11 rows x 7 columns]"
            ]
          },
          "metadata": {
            "tags": []
          },
          "execution_count": 135
        }
      ]
    },
    {
      "cell_type": "code",
      "metadata": {
        "id": "OoWRGBO0rqB1"
      },
      "source": [
        "%matplotlib inline"
      ],
      "execution_count": null,
      "outputs": []
    },
    {
      "cell_type": "code",
      "metadata": {
        "id": "Y0mbwhT1s8yy",
        "colab": {
          "base_uri": "https://localhost:8080/",
          "height": 282
        },
        "outputId": "f95cde08-63fb-4355-f1d8-cc6be1a3fe4a"
      },
      "source": [
        "our_movies.Year.plot(kind='hist')"
      ],
      "execution_count": null,
      "outputs": [
        {
          "output_type": "execute_result",
          "data": {
            "text/plain": [
              "<matplotlib.axes._subplots.AxesSubplot at 0x7f108de1a128>"
            ]
          },
          "metadata": {
            "tags": []
          },
          "execution_count": 127
        },
        {
          "output_type": "display_data",
          "data": {
            "image/png": "[encoded data removed]",
            "text/plain": [
              "<Figure size 432x288 with 1 Axes>"
            ]
          },
          "metadata": {
            "tags": [],
            "needs_background": "light"
          }
        }
      ]
    },
    {
      "cell_type": "markdown",
      "metadata": {
        "id": "qWO72OeeG9wS"
      },
      "source": [
        "Rok 2013 obfitował w najwięcej udanych filmów jak widać na naszym histogramie. Możemy uznać go za dobrą monetę i jeszcze bardziej odseparować dane."
      ]
    },
    {
      "cell_type": "code",
      "metadata": {
        "id": "f4j_DDsYH2Iq",
        "colab": {
          "base_uri": "https://localhost:8080/",
          "height": 199
        },
        "outputId": "401f0a62-f679-478e-8583-0fa459112308"
      },
      "source": [
        "our_movies_2013 = our_movies.sort_values('Rating')[our_movies.Year==2013]\n",
        "our_movies_2013"
      ],
      "execution_count": null,
      "outputs": [
        {
          "output_type": "stream",
          "text": [
            "/usr/local/lib/python3.6/dist-packages/ipykernel_launcher.py:1: UserWarning: Boolean Series key will be reindexed to match DataFrame index.\n",
            "  \"\"\"Entry point for launching an IPython kernel.\n"
          ],
          "name": "stderr"
        },
        {
          "output_type": "execute_result",
          "data": {
            "text/html": [
              "<div>\n",
              "<style scoped>\n",
              "    .dataframe tbody tr th:only-of-type {\n",
              "        vertical-align: middle;\n",
              "    }\n",
              "\n",
              "    .dataframe tbody tr th {\n",
              "        vertical-align: top;\n",
              "    }\n",
              "\n",
              "    .dataframe thead th {\n",
              "        text-align: right;\n",
              "    }\n",
              "</style>\n",
              "<table border=\"1\" class=\"dataframe\">\n",
              "  <thead>\n",
              "    <tr style=\"text-align: right;\">\n",
              "      <th></th>\n",
              "      <th>Title</th>\n",
              "      <th>Director</th>\n",
              "      <th>Year</th>\n",
              "      <th>Runtime (Minutes)</th>\n",
              "      <th>Rating</th>\n",
              "      <th>Votes</th>\n",
              "      <th>Revenue (Millions)</th>\n",
              "    </tr>\n",
              "  </thead>\n",
              "  <tbody>\n",
              "    <tr>\n",
              "      <th>876</th>\n",
              "      <td>Warm Bodies</td>\n",
              "      <td>Jonathan Levine</td>\n",
              "      <td>2013</td>\n",
              "      <td>98</td>\n",
              "      <td>6.9</td>\n",
              "      <td>193579</td>\n",
              "      <td>66.36</td>\n",
              "    </tr>\n",
              "    <tr>\n",
              "      <th>807</th>\n",
              "      <td>The Spectacular Now</td>\n",
              "      <td>James Ponsoldt</td>\n",
              "      <td>2013</td>\n",
              "      <td>95</td>\n",
              "      <td>7.1</td>\n",
              "      <td>115751</td>\n",
              "      <td>6.85</td>\n",
              "    </tr>\n",
              "    <tr>\n",
              "      <th>137</th>\n",
              "      <td>The Great Gatsby</td>\n",
              "      <td>Baz Luhrmann</td>\n",
              "      <td>2013</td>\n",
              "      <td>143</td>\n",
              "      <td>7.3</td>\n",
              "      <td>386102</td>\n",
              "      <td>144.81</td>\n",
              "    </tr>\n",
              "    <tr>\n",
              "      <th>173</th>\n",
              "      <td>Her</td>\n",
              "      <td>Spike Jonze</td>\n",
              "      <td>2013</td>\n",
              "      <td>126</td>\n",
              "      <td>8.0</td>\n",
              "      <td>390531</td>\n",
              "      <td>25.56</td>\n",
              "    </tr>\n",
              "  </tbody>\n",
              "</table>\n",
              "</div>"
            ],
            "text/plain": [
              "                   Title         Director  ...   Votes  Revenue (Millions)\n",
              "876          Warm Bodies  Jonathan Levine  ...  193579               66.36\n",
              "807  The Spectacular Now   James Ponsoldt  ...  115751                6.85\n",
              "137     The Great Gatsby     Baz Luhrmann  ...  386102              144.81\n",
              "173                  Her      Spike Jonze  ...  390531               25.56\n",
              "\n",
              "[4 rows x 7 columns]"
            ]
          },
          "metadata": {
            "tags": []
          },
          "execution_count": 128
        }
      ]
    },
    {
      "cell_type": "code",
      "metadata": {
        "id": "DB8WbduCWLd_",
        "colab": {
          "base_uri": "https://localhost:8080/",
          "height": 34
        },
        "outputId": "8095f4e4-faf8-4474-b48b-e4ff76b08190"
      },
      "source": [
        "directors = movies.Director.value_counts()\n",
        "directors[\"Jonathan Levine\"]\n",
        "directors[\"James Ponsoldt\"]\n",
        "directors[\"Baz Luhrmann\"]\n",
        "directors[\"Spike Jonze\"]"
      ],
      "execution_count": null,
      "outputs": [
        {
          "output_type": "execute_result",
          "data": {
            "text/plain": [
              "1"
            ]
          },
          "metadata": {
            "tags": []
          },
          "execution_count": 177
        }
      ]
    },
    {
      "cell_type": "code",
      "metadata": {
        "id": "0F0eL7agB7iR"
      },
      "source": [
        "direct = movies.Director.value_counts()"
      ],
      "execution_count": null,
      "outputs": []
    },
    {
      "cell_type": "markdown",
      "metadata": {
        "id": "phul56nYBJbO"
      },
      "source": [
        "## Wnioski końcowe\n",
        "\n",
        "1. Z 1000 rekordów filmów w 12 kolumnach parametru do wyboru udało nam się zrobić 11 rekordów i 7 kolumn bardziej stargetowanych przez nas informacji, by później zredukować tę liczbę do 4, dając wskazania na konkretne dwa spośród nich. Już same dane tabelaryczne wspierają nasz proces decyzyjny."
      ]
    },
    {
      "cell_type": "code",
      "metadata": {
        "id": "mmzMAy9eGZ_i",
        "colab": {
          "base_uri": "https://localhost:8080/",
          "height": 34
        },
        "outputId": "52a72512-9fc4-425e-98ce-a4b5264729cc"
      },
      "source": [
        "movies.shape"
      ],
      "execution_count": null,
      "outputs": [
        {
          "output_type": "execute_result",
          "data": {
            "text/plain": [
              "(1000, 12)"
            ]
          },
          "metadata": {
            "tags": []
          },
          "execution_count": 130
        }
      ]
    },
    {
      "cell_type": "code",
      "metadata": {
        "id": "pb_j3jGzGbkB",
        "colab": {
          "base_uri": "https://localhost:8080/",
          "height": 34
        },
        "outputId": "8ea615c4-3472-4cfb-e846-7e482fa43880"
      },
      "source": [
        "our_movies.shape"
      ],
      "execution_count": null,
      "outputs": [
        {
          "output_type": "execute_result",
          "data": {
            "text/plain": [
              "(11, 7)"
            ]
          },
          "metadata": {
            "tags": []
          },
          "execution_count": 131
        }
      ]
    },
    {
      "cell_type": "code",
      "metadata": {
        "id": "Q2ZPc8llZHw7",
        "colab": {
          "base_uri": "https://localhost:8080/",
          "height": 34
        },
        "outputId": "203f2cc7-23df-4189-f467-6f7a23f8aa16"
      },
      "source": [
        "our_movies_2013.shape"
      ],
      "execution_count": null,
      "outputs": [
        {
          "output_type": "execute_result",
          "data": {
            "text/plain": [
              "(4, 7)"
            ]
          },
          "metadata": {
            "tags": []
          },
          "execution_count": 132
        }
      ]
    },
    {
      "cell_type": "markdown",
      "metadata": {
        "id": "HQeAA5rQGyWI"
      },
      "source": [
        "2. Najwięcej komedii romantycznych, które osiągnęły ilość głosów powyżej mediany, ocenę powyżej średniej filmów Rankingu IMDB powstało w roku 2013."
      ]
    },
    {
      "cell_type": "markdown",
      "metadata": {
        "id": "H2UDZ2ylW_z1"
      },
      "source": [
        "3. **Dla dobra celu naszego spotkania należy pochylić się nad filmami reżysera Baza Luhrmanna, oraz Jonathana Levine'a. Warto wybrać film \tWarm Bodies, albo The Great Gatsby. Wybór pomiędzy tymi dwoma typami pozostaje naszej subiektywnej ocenie opartej guście.**"
      ]
    }
  ]
}